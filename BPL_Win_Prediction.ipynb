import numpy as np
import pandas as pd
import pickle
import joblib

# Dataset Load
match = pd.read_csv("data/BPL_dataset_1.csv")
delivery = pd.read_csv("data/BPL_deliveries_dataset_2.csv")

# First innings total runs
total_score_df = delivery.groupby(['match_id','inning']).sum()['total_runs'].reset_index()
total_score_df = total_score_df[total_score_df['inning']==1]

match_df = match.merge(total_score_df[['match_id','total_runs']], left_on='id', right_on='match_id')

teams = [
    'Khulna Tigers', 'Rangpur Riders', 'Barishal Bulls', 'Sylhet Strikers', 
    'Rajshahi Kings', 'Dhaka Dominators', 'Comilla Victorians', 'Chattogram Challengers'
]

match_df = match_df[match_df['team1'].isin(teams)]
match_df = match_df[match_df['team2'].isin(teams)]

match_df = match_df[['match_id','city','winner','total_runs']]
delivery_df = match_df.merge(delivery, on='match_id')

# Second innings data
delivery_df = delivery_df[delivery_df['inning'] == 2]

# Current score at each ball
delivery_df['current_score'] = delivery_df.groupby('match_id')['total_runs_y'].cumsum()

delivery_df['runs_left'] = delivery_df['total_runs_x'] - delivery_df['current_score']
delivery_df['balls_left'] = 126 - (delivery_df['over'] * 6 + delivery_df['ball'])

delivery_df['player_dismissed'] = delivery_df['player_dismissed'].fillna("0")
delivery_df['player_dismissed'] = delivery_df['player_dismissed'].apply(lambda x: 0 if x=="0" else 1)
delivery_df['player_dismissed'] = delivery_df['player_dismissed'].astype(int)

wickets = delivery_df.groupby('match_id')['player_dismissed'].cumsum().values
delivery_df['wickets'] = 10 - wickets

# Current Run Rate (CRR) and Required Run Rate (RRR)
delivery_df['crr'] = (delivery_df['current_score'] * 6) / (120 - delivery_df['balls_left'])
delivery_df['rrr'] = (delivery_df['runs_left'] * 6) / (delivery_df['balls_left'])

def result(row):
    return 1 if row['batting_team'] == row['winner'] else 0

delivery_df['result'] = delivery_df.apply(result, axis=1)

final_df = delivery_df[['batting_team','bowling_team','city','runs_left','balls_left','wickets','total_runs_x','crr','rrr','result']]
final_df = final_df.sample(frac=1).reset_index(drop=True)

final_df.dropna(inplace=True)
final_df = final_df[final_df['balls_left'] != 0]

x = final_df.iloc[:,:-1]
y = final_df.iloc[:,-1]

from sklearn.model_selection import train_test_split
x_train,x_test,y_train,y_test = train_test_split(x, y, test_size=0.2, random_state=1)

from sklearn.compose import ColumnTransformer
from sklearn.preprocessing import OneHotEncoder
from sklearn.linear_model import LogisticRegression
from sklearn.pipeline import Pipeline

trf = ColumnTransformer(
    [('trf', OneHotEncoder(sparse_output=False, drop='first'), ['batting_team', 'bowling_team', 'city'])],
    remainder='passthrough'
)

pipe = Pipeline([
    ('step1', trf),
    ('step2', LogisticRegression(solver='liblinear'))
])

pipe.fit(x_train, y_train)

from sklearn.metrics import accuracy_score
y_pred = pipe.predict(x_test)
print("Test Accuracy:", accuracy_score(y_test, y_pred))

# Save model pipeline using joblib
import joblib
joblib.dump(pipe, "model_pipeline.pkl")
